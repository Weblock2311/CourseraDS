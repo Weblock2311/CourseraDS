{
 "cells": [
  {
   "cell_type": "markdown",
   "id": "1ba5bb36-f11d-4fa7-8a05-d74f73a7cd50",
   "metadata": {},
   "source": [
    "# Data Science Tools and Ecosystem"
   ]
  },
  {
   "cell_type": "markdown",
   "id": "9655197d-f246-4a44-b34f-6826da4ddc1c",
   "metadata": {
    "tags": []
   },
   "source": [
    "In this notebook, Data Science Tools and Ecosystem are summarized"
   ]
  },
  {
   "cell_type": "markdown",
   "id": "2e943f86-689f-4b38-9019-7f2ebae57a79",
   "metadata": {},
   "source": [
    "Some of the popular languages that Data Scientist use are:\n",
    "1. Python\n",
    "2. Julia\n",
    "3. R\n",
    "4. JavaScript\n",
    "5. C++"
   ]
  },
  {
   "cell_type": "code",
   "execution_count": null,
   "id": "a1728ceb-4fa6-4d64-bf81-02a7dbc7f6d9",
   "metadata": {},
   "outputs": [],
   "source": []
  },
  {
   "cell_type": "markdown",
   "id": "f90ca627-36d3-44f8-aa72-594075ece093",
   "metadata": {},
   "source": [
    "Some of the commonly used libraries used by Data Scientist include:\n",
    "1. Pandas\n",
    "2. Numpy\n",
    "3. SciKit-learn\n",
    "4. MatPlotLib\n",
    "5. TensorFlow\n",
    "6. Keras"
   ]
  },
  {
   "cell_type": "markdown",
   "id": "6fc387d4-899d-4fa7-a171-329ab3fae855",
   "metadata": {
    "tags": []
   },
   "source": [
    "| Data Science Tools|\n",
    "--------------------\n",
    "| JupyterNotebook   | \n",
    "| JupyterLab        |    \n",
    "| RStudio           |        \n",
    "| Spyder            |      "
   ]
  },
  {
   "cell_type": "markdown",
   "id": "5d1f54a7-1e75-4616-b1a1-28d017eefc9d",
   "metadata": {},
   "source": [
    "### Below are a few examples of evaluating arithmetic expressions in Python"
   ]
  },
  {
   "cell_type": "code",
   "execution_count": 3,
   "id": "955e564a-d4c3-4406-8073-b34f7007c748",
   "metadata": {
    "tags": []
   },
   "outputs": [
    {
     "data": {
      "text/plain": [
       "17"
      ]
     },
     "execution_count": 3,
     "metadata": {},
     "output_type": "execute_result"
    }
   ],
   "source": [
    "# This is a simple arithmetic expression to multiply then add integers\n",
    "(3*4)+5"
   ]
  },
  {
   "cell_type": "code",
   "execution_count": 4,
   "id": "39d57941-bc96-4f90-a459-4a0110f550d8",
   "metadata": {
    "tags": []
   },
   "outputs": [
    {
     "data": {
      "text/plain": [
       "3.3333333333333335"
      ]
     },
     "execution_count": 4,
     "metadata": {},
     "output_type": "execute_result"
    }
   ],
   "source": [
    "# This will convert 200 minutes to hours by divide by 60\n",
    "200/60"
   ]
  },
  {
   "cell_type": "markdown",
   "id": "d2b2abe0-5465-41df-9e17-1fc987f282e1",
   "metadata": {},
   "source": [
    "**Objectives:** List popular language for Data Science\n",
    "- Julia\n",
    "- Python\n",
    "- R\n",
    "- JavaScript\n",
    "- Java\n",
    "- C++"
   ]
  },
  {
   "cell_type": "markdown",
   "id": "8af69823-21f0-4a58-a0bc-843b954d5742",
   "metadata": {},
   "source": [
    "## Author\n",
    "Shamsul Bahri Ben Faat"
   ]
  },
  {
   "cell_type": "code",
   "execution_count": null,
   "id": "3d1702b0-90bc-469c-825b-4148c5b11478",
   "metadata": {},
   "outputs": [],
   "source": []
  }
 ],
 "metadata": {
  "kernelspec": {
   "display_name": "Python",
   "language": "python",
   "name": "conda-env-python-py"
  },
  "language_info": {
   "codemirror_mode": {
    "name": "ipython",
    "version": 3
   },
   "file_extension": ".py",
   "mimetype": "text/x-python",
   "name": "python",
   "nbconvert_exporter": "python",
   "pygments_lexer": "ipython3",
   "version": "3.7.12"
  }
 },
 "nbformat": 4,
 "nbformat_minor": 5
}
